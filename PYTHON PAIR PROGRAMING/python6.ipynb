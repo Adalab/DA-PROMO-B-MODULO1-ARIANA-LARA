{
 "cells": [
  {
   "cell_type": "code",
   "execution_count": 4,
   "metadata": {},
   "outputs": [
    {
     "name": "stdout",
     "output_type": "stream",
     "text": [
      "Le corresponde la nota A\n"
     ]
    }
   ],
   "source": [
    "\n",
    "# EJERCICIO 1:\n",
    "nota_numerica= int(input('introduzca su nota aqui:'))\n",
    "\n",
    "if nota_numerica < 25:\n",
    "    print('Le corresponde la nota F')\n",
    "elif nota_numerica>=25 and nota_numerica<45:\n",
    "    print('Le corresponde la nota E')\n",
    "elif nota_numerica>=45 and nota_numerica<50:\n",
    "    print('Le corresponde la nota D')\n",
    "elif nota_numerica>=50 and nota_numerica<60:\n",
    "    print('Le corresponde la nota C')\n",
    "elif nota_numerica>=60 and nota_numerica<80:\n",
    "    print('Le corresponde la nota B')\n",
    "else:\n",
    "    print('Le corresponde la nota A')\n"
   ]
  },
  {
   "cell_type": "code",
   "execution_count": null,
   "metadata": {},
   "outputs": [],
   "source": []
  },
  {
   "cell_type": "code",
   "execution_count": 9,
   "metadata": {},
   "outputs": [
    {
     "name": "stdout",
     "output_type": "stream",
     "text": [
      "persona 2 es la más mayor\n",
      "persona 3 es la más pequeña\n"
     ]
    }
   ],
   "source": [
    "# EJERCICIO 2:\n",
    "\n",
    "persona1=int(input('¿persona 1 que edad tienes?'))\n",
    "persona2=int(input('¿persona 2 que edad tienes?'))\n",
    "persona3=int(input('¿persona 3 que edad tienes?'))\n",
    "\n",
    "if persona1>persona2 and persona1>persona3:\n",
    "    print('persona 1 es la más mayor')\n",
    "    if persona2<persona3:\n",
    "        print('persona 2 es la más pequeña')\n",
    "    else:\n",
    "        print('persona 3 es la más pequeña')\n",
    "\n",
    "elif persona2>persona1 and persona2>persona3:\n",
    "    print('persona 2 es la más mayor')\n",
    "    if persona1<persona3:\n",
    "        print('persona 1 es la más pequeña')\n",
    "    else:\n",
    "        print('persona 3 es la más pequeña')\n",
    "else:\n",
    "    print('persona 3 es la más mayor')\n",
    "    if persona1<persona2:\n",
    "        print('persona 1 es la más pequeña')\n",
    "    else:\n",
    "        print('persona 2 es la más pequeña')\n",
    "\n"
   ]
  },
  {
   "cell_type": "code",
   "execution_count": 11,
   "metadata": {},
   "outputs": [
    {
     "name": "stdout",
     "output_type": "stream",
     "text": [
      "Buenos días lara\n"
     ]
    }
   ],
   "source": [
    "# EJERCICIO 3:\n",
    "\n",
    "nombre= input('¿cual es su nombre?')\n",
    "if nombre == 'bond':\n",
    "    print('Bienvenido a bordo de 007')\n",
    "else:\n",
    "    print('Buenos días', nombre)"
   ]
  },
  {
   "cell_type": "code",
   "execution_count": 40,
   "metadata": {},
   "outputs": [
    {
     "name": "stdout",
     "output_type": "stream",
     "text": [
      "los paises con más de 20.000 árboles por kilómetro cuadrado son: ['Finland', 'Taiwan', 'Japan', 'Russia', 'Brazil', 'Canada', 'Bulgaria', 'France', 'Greece', 'United States']\n"
     ]
    }
   ],
   "source": [
    "# EJERCICIO 4:\n",
    "\n",
    "tree = {\"Finland\": 90652, \"Taiwan\": 69593,\n",
    "              \"Japan\": 49894, \"Russia\": 41396, \"Brazil\": 39542, \n",
    "              \"Canada\": 36388, \"Bulgaria\": 24987, \n",
    "              \"France\": 24436, \"Greece\": 24323, \"United States\": 23513,\n",
    "               \"Turkey\": 11126, \"India\": 11109, \"Denmark\": 6129, \"Syria\": 534,\n",
    "              \"Saudi Arabia\": 1}\n",
    "\n",
    "moretrees= []\n",
    "lista_keys= list(tree.items())\n",
    "numero_key=0\n",
    "\n",
    "while lista_keys[numero_key][1] >= 20000:\n",
    "    moretrees.append(lista_keys[numero_key][0])\n",
    "    numero_key=numero_key+1\n",
    "\n",
    "\n",
    "print('los paises con más de 20.000 árboles por kilómetro cuadrado son:', moretrees)\n"
   ]
  },
  {
   "cell_type": "code",
   "execution_count": 47,
   "metadata": {},
   "outputs": [
    {
     "name": "stdout",
     "output_type": "stream",
     "text": [
      "estas en el grupo A\n",
      "['maria']\n"
     ]
    }
   ],
   "source": [
    "# EJERCICIO 5:\n",
    "\n",
    "hasta_m=['a','b','c','d','e','f','g','h','i','j','k','l','m']\n",
    "desde_n=['n','ñ','o','p','q','r','s','t','u','v','w','x','y','z']\n",
    "\n",
    "nombre_sexo= input('Escriba su nombre y sexo (F/M)')\n",
    "x= list(nombre_sexo.split())\n",
    "nombre= x[0]\n",
    "letra= list(nombre)[0]\n",
    "sexo= x[1]\n",
    "grupo_b= []\n",
    "grupo_a= []\n",
    "if sexo == 'f' and letra in hasta_m:\n",
    "    grupo_a.append(nombre)\n",
    "    print('estas en el grupo A')\n",
    "    print(grupo_a)\n",
    "elif sexo== 'm' and letra in desde_n:\n",
    "    grupo_a.append(nombre)\n",
    "    print('estas en el grupo A')\n",
    "    print(grupo_a)\n",
    "else:\n",
    "    grupo_b.append(nombre)\n",
    "    print('estas en el grupo B')\n",
    "    print(grupo_b)\n",
    "\n"
   ]
  },
  {
   "cell_type": "code",
   "execution_count": 49,
   "metadata": {},
   "outputs": [
    {
     "name": "stdout",
     "output_type": "stream",
     "text": [
      "0\n",
      "[0]\n",
      "1\n",
      "[0, 1]\n",
      "2\n"
     ]
    }
   ],
   "source": [
    "# EJERCICIO 6:\n",
    "\n",
    "z=0\n",
    "lista_aux= []\n",
    "while z<3:\n",
    "    if z==0:\n",
    "        print(z)\n",
    "        lista_aux.append(z)\n",
    "        z=z+1\n",
    "        print(lista_aux)\n",
    "    elif z==1:\n",
    "        print(z)\n",
    "        lista_aux.append(z)\n",
    "        z=z+1\n",
    "        print(lista_aux)\n",
    "    else:\n",
    "        print(z)\n",
    "        z=z+1\n",
    "\n"
   ]
  },
  {
   "cell_type": "code",
   "execution_count": 50,
   "metadata": {},
   "outputs": [
    {
     "name": "stdout",
     "output_type": "stream",
     "text": [
      "[0, 1, 2, 3]\n"
     ]
    }
   ],
   "source": [
    "# EJERCICIO 7:\n",
    "\n",
    "lista=[]\n",
    "x=0\n",
    "while len(lista)<4:\n",
    "    lista.append(x)\n",
    "    x=x+1\n",
    "print(lista)"
   ]
  },
  {
   "cell_type": "code",
   "execution_count": 53,
   "metadata": {},
   "outputs": [
    {
     "name": "stdout",
     "output_type": "stream",
     "text": [
      "115\n"
     ]
    }
   ],
   "source": [
    "# EJERCICIO 8:\n",
    "\n",
    "i=0\n",
    "lista=[23,45,12,10,25]\n",
    "suma=0\n",
    "while i<len(lista):\n",
    "    suma= suma + lista[i]\n",
    "    i=i+1\n",
    "\n",
    "print(suma)"
   ]
  },
  {
   "cell_type": "code",
   "execution_count": 55,
   "metadata": {},
   "outputs": [
    {
     "name": "stdout",
     "output_type": "stream",
     "text": [
      "puede entrar gratis\n"
     ]
    }
   ],
   "source": [
    "# EJERCICIO 9:\n",
    "edad= int(input('¿cual es tu edad?'))\n",
    "if edad < 4:\n",
    "    print('puede entrar gratis')\n",
    "elif edad>=4 and edad<18:\n",
    "    print('Le corresponde pagar: 5€')\n",
    "else: \n",
    "    print('Le corresponde pagar: 10€')\n"
   ]
  },
  {
   "cell_type": "code",
   "execution_count": 58,
   "metadata": {},
   "outputs": [
    {
     "name": "stdout",
     "output_type": "stream",
     "text": [
      "Bienvenido a  Bella Napoli\n",
      "Ademas del tomate y la mozzarella (que vienen en todas las pizzas) puede elegir entre estos ingredientes: pimiento y tofu\n",
      "La pizza elegida es la vegetariana y ha elegido el ingrediente: pimiento\n"
     ]
    }
   ],
   "source": [
    "# EJERCICIO 10:\n",
    "print('Bienvenido a  Bella Napoli')\n",
    "\n",
    "pizza= input('¿que pizza quiere? ¿vegetariana o no vegetariana?')\n",
    "if pizza== 'vegetariana':\n",
    "    print('Ademas del tomate y la mozzarella (que vienen en todas las pizzas) puede elegir entre estos ingredientes: pimiento y tofu')\n",
    "    ingrediente_veggie= input('¿que ingrediente quiere?')\n",
    "    print('La pizza elegida es la vegetariana y ha elegido el ingrediente:', ingrediente_veggie)\n",
    "else: \n",
    "    print('Ademas del tomate y la mozzarella (que vienen en todas las pizzas) puede elegir entre estos ingredientes: Peperoni, Jamón y Salmón')\n",
    "    ingrediente= input('¿que ingrediente quiere?')\n",
    "    print('La pizza elegida es la NO vegetariana y ha elegido el ingrediente:', ingrediente)"
   ]
  }
 ],
 "metadata": {
  "kernelspec": {
   "display_name": "Python 3.10.5 64-bit",
   "language": "python",
   "name": "python3"
  },
  "language_info": {
   "codemirror_mode": {
    "name": "ipython",
    "version": 3
   },
   "file_extension": ".py",
   "mimetype": "text/x-python",
   "name": "python",
   "nbconvert_exporter": "python",
   "pygments_lexer": "ipython3",
   "version": "3.10.5"
  },
  "orig_nbformat": 4,
  "vscode": {
   "interpreter": {
    "hash": "0adb82060a9e8277a0ab7cf318d2b014ae15a0943de91cc19dddffdec6eb64ba"
   }
  }
 },
 "nbformat": 4,
 "nbformat_minor": 2
}
