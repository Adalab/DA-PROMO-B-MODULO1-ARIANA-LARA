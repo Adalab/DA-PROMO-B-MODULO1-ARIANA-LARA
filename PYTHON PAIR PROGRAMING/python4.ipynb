{
 "cells": [
  {
   "cell_type": "code",
   "execution_count": 6,
   "metadata": {},
   "outputs": [
    {
     "name": "stdout",
     "output_type": "stream",
     "text": [
      "Bienvenidos al juego\n",
      "Escoge una categoria de las siguientes: 1: colors, 2: shapes, 3: fruits, 4: animals\n",
      "El usuario ha elegido la categoria  1\n",
      "Ha elegido la palabra: red\n",
      "No ha adivinado ninguna palabra.\n",
      "la palabra secreta era: green\n",
      "Se acabó el juego.\n"
     ]
    }
   ],
   "source": [
    "import random\n",
    "\n",
    "#definimos el diccionario ``words´´\n",
    "words = {'Colors':'red orange yellow green blue indigo violet white black brown'.split(),\n",
    "'Shapes':'square triangle rectangle circle ellipse rhombus trapezoid chevron pentagon hexagon septagon octagon'.split(),\n",
    "'Fruits':'apple orange lemon lime pear watermelon grape grapefruit cherry banana cantaloupe mango strawberry tomato'.split(),\n",
    "'Animals':'bat bear beaver cat cougar crab deer dog donkey duck eagle fish frog goat leech lion lizard monkey moose mouse otter owl panda python rabbit rat shark sheep skunk squid tiger turkey turtle weasel whale wolf wombat zebra'.split()}\n",
    "\n",
    "#Asignamos un valor numerico a cada Key\n",
    "numeros= {1: 'Colors' , 2: 'Shapes' , 3: 'Fruits' , 4: 'Animals'}\n",
    "\n",
    "#Iniciamos juego y pedimos datos al usuario\n",
    "print('Bienvenidos al juego')\n",
    "print('Escoge una categoria de las siguientes: 1: colors, 2: shapes, 3: fruits, 4: animals')\n",
    "x=int(input('Indique el número de la categoria elegida:'))\n",
    "print('El usuario ha elegido la categoria ', x)\n",
    "\n",
    "#obtenemos la Key y la lista de values\n",
    "y= numeros.get(x)\n",
    "lista_values= words[y]\n",
    "\n",
    "# generamos la palabra random \n",
    "posicion_secreta = random.randint(0, len(lista_values)-1)\n",
    "word_secreta= lista_values[posicion_secreta]\n",
    "\n",
    "#Intento usuario adivinar palabra random de la categoria\n",
    "palabra_usuario= input('Intente adivinar una palabra de la categoria:')\n",
    "print('Ha elegido la palabra:', palabra_usuario)\n",
    "\n",
    "#resolución\n",
    "if palabra_usuario== word_secreta:\n",
    "    print('Ha adivinado la palabra elegida de esa categoria, enhorabuena.')\n",
    "else:\n",
    "    print('No ha adivinado ninguna palabra.')\n",
    "    print('la palabra secreta era:', word_secreta)\n",
    "\n",
    "print('Se acabó el juego.')\n"
   ]
  }
 ],
 "metadata": {
  "kernelspec": {
   "display_name": "Python 3.10.5 64-bit",
   "language": "python",
   "name": "python3"
  },
  "language_info": {
   "codemirror_mode": {
    "name": "ipython",
    "version": 3
   },
   "file_extension": ".py",
   "mimetype": "text/x-python",
   "name": "python",
   "nbconvert_exporter": "python",
   "pygments_lexer": "ipython3",
   "version": "3.10.5"
  },
  "orig_nbformat": 4,
  "vscode": {
   "interpreter": {
    "hash": "0adb82060a9e8277a0ab7cf318d2b014ae15a0943de91cc19dddffdec6eb64ba"
   }
  }
 },
 "nbformat": 4,
 "nbformat_minor": 2
}
