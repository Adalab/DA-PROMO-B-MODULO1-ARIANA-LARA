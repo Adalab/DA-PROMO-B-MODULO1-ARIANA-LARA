{
 "cells": [
  {
   "cell_type": "code",
   "execution_count": 20,
   "metadata": {},
   "outputs": [
    {
     "name": "stdout",
     "output_type": "stream",
     "text": [
      "bienvenido, comencemos el juego\n",
      "La lista aleatoria tiene 15 números entre 0 a 20\n",
      "[12, 9, 16, 3, 11, 0, 2, 4, 5, 13, 7, 15, 17, 19, 10]\n",
      "el usuario adivinó el número:  12\n",
      "el número: 12 se encuentra en la posición 1 ,índice: 0\n",
      "terminó el juego, la lista era:  [12, 9, 16, 3, 11, 0, 2, 4, 5, 13, 7, 15, 17, 19, 10]\n"
     ]
    }
   ],
   "source": [
    "print('Bienvenido, comencemos el juego')\n",
    "print('La lista aleatoria tiene 15 números entre el 0 y el 20')\n",
    "\n",
    "#Generamos la lista random de números\n",
    "import random\n",
    "long_lista = 15\n",
    "lim_inf = 0\n",
    "lim_sup = 20\n",
    "random_list = random.sample(range(lim_inf,lim_sup),long_lista)\n",
    "\n",
    "#procedimiento para ver si ha adivinado un número de la lista\n",
    "x= int(input('escriba un número del 0 al 20'))\n",
    "if x in random_list:\n",
    "    print('el usuario adivinó el número: ', x)\n",
    "    indice= random_list.index(x) \n",
    "    posicion= indice+1\n",
    "   \n",
    "    print('el número:',x,'se encuentra en la posición',posicion,',índice:',indice)\n",
    "else:\n",
    "    print('el número: ',x,'no se encuentra en la lista.')\n",
    "\n",
    "print ('terminó el juego, la lista era: ', random_list)    "
   ]
  }
 ],
 "metadata": {
  "kernelspec": {
   "display_name": "Python 3.10.5 64-bit",
   "language": "python",
   "name": "python3"
  },
  "language_info": {
   "codemirror_mode": {
    "name": "ipython",
    "version": 3
   },
   "file_extension": ".py",
   "mimetype": "text/x-python",
   "name": "python",
   "nbconvert_exporter": "python",
   "pygments_lexer": "ipython3",
   "version": "3.10.5"
  },
  "orig_nbformat": 4,
  "vscode": {
   "interpreter": {
    "hash": "0adb82060a9e8277a0ab7cf318d2b014ae15a0943de91cc19dddffdec6eb64ba"
   }
  }
 },
 "nbformat": 4,
 "nbformat_minor": 2
}
