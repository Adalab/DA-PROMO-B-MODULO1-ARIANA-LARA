{
 "cells": [
  {
   "cell_type": "code",
   "execution_count": 1,
   "metadata": {},
   "outputs": [
    {
     "name": "stdout",
     "output_type": "stream",
     "text": [
      "El año 1 se obtuvo 110.0\n",
      "El año 2 se obtuvo 121.0\n",
      "El año 3 se obtuvo 133.1\n",
      "El año 4 se obtuvo 146.41\n"
     ]
    }
   ],
   "source": [
    "# EJERCICIO 1:\n",
    "\n",
    "cantidad_invertir = int(input(\"Ingrese la cantidad a invertir: \"))\n",
    "tasa_interes = float(input(\"Ingrese la tasa de interes anual: \"))\n",
    "numero_años = int(input(\"Ingrese el número de años: \"))\n",
    "\n",
    "for i in range(numero_años):\n",
    "    cantidad_invertir += (tasa_interes * cantidad_invertir) / 100 \n",
    "    print (\"El año\", str(i+1), \"se obtuvo\", cantidad_invertir)"
   ]
  },
  {
   "cell_type": "code",
   "execution_count": 13,
   "metadata": {},
   "outputs": [
    {
     "name": "stdout",
     "output_type": "stream",
     "text": [
      "la letra a aparece 2 veces\n"
     ]
    }
   ],
   "source": [
    "# EJERCICIO 2:\n",
    "\n",
    "frase= input('escriba una frase')\n",
    "letra=input('escriba una letra')\n",
    "\n",
    "frase=list(frase)\n",
    "frase.remove(' ')\n",
    "cuenta=0\n",
    "\n",
    "for i in frase:\n",
    "    if letra==i:\n",
    "        cuenta=cuenta+1\n",
    "        \n",
    "\n",
    "print('la letra',letra,'aparece',cuenta,'veces')\n"
   ]
  },
  {
   "cell_type": "code",
   "execution_count": 15,
   "metadata": {},
   "outputs": [
    {
     "name": "stdout",
     "output_type": "stream",
     "text": [
      "1 x 0 = 0\n",
      "1 x 1 = 1\n",
      "1 x 2 = 2\n",
      "1 x 3 = 3\n",
      "1 x 4 = 4\n",
      "1 x 5 = 5\n",
      "1 x 6 = 6\n",
      "1 x 7 = 7\n",
      "1 x 8 = 8\n",
      "1 x 9 = 9\n"
     ]
    }
   ],
   "source": [
    "# EJERCICIO 3:\n",
    "\n",
    "numero=int(input('introduzca un número'))\n",
    "lista=[0,1,2,3,4,5,6,7,8,9]\n",
    "\n",
    "for i in lista:\n",
    "    multiplicacion= numero*i\n",
    "    print(numero,'x',i,'=',multiplicacion)"
   ]
  },
  {
   "cell_type": "code",
   "execution_count": 24,
   "metadata": {},
   "outputs": [
    {
     "name": "stdout",
     "output_type": "stream",
     "text": [
      "Estos son los números divisibles entre 5: [75, 145]\n"
     ]
    }
   ],
   "source": [
    "# EJERCICIO 4:\n",
    "\n",
    "numbers = [12, 75, 150, 180, 145, 525, 50]\n",
    "\n",
    "divisible=[]\n",
    "for i in numbers:\n",
    "    if i<500:\n",
    "        if i<150:\n",
    "            if i%5 == 0:\n",
    "               divisible.append(i)\n",
    "    else:\n",
    "        break\n",
    "            \n",
    "   \n",
    "\n",
    "print('Estos son los números divisibles entre 5:', divisible)\n",
    "\n"
   ]
  },
  {
   "cell_type": "code",
   "execution_count": 32,
   "metadata": {},
   "outputs": [
    {
     "name": "stdout",
     "output_type": "stream",
     "text": [
      "[50, 40, 30, 20, 10]\n"
     ]
    }
   ],
   "source": [
    "# EJERCICIO 5:\n",
    "\n",
    "list1 = [10, 20, 30, 40, 50]\n",
    "\n",
    "list1.sort(reverse=True)\n",
    "print(list1)"
   ]
  },
  {
   "cell_type": "code",
   "execution_count": 34,
   "metadata": {},
   "outputs": [
    {
     "name": "stdout",
     "output_type": "stream",
     "text": [
      "1\n",
      "4\n",
      "9\n"
     ]
    }
   ],
   "source": [
    "# EJERCICIO 6:\n",
    "\n",
    "for i in ['1','2','3']:\n",
    "    try:\n",
    "        print (i**2)\n",
    "    except:\n",
    "        i2=int(i)\n",
    "        print (i2**2)\n"
   ]
  }
 ],
 "metadata": {
  "kernelspec": {
   "display_name": "Python 3.10.5 64-bit",
   "language": "python",
   "name": "python3"
  },
  "language_info": {
   "codemirror_mode": {
    "name": "ipython",
    "version": 3
   },
   "file_extension": ".py",
   "mimetype": "text/x-python",
   "name": "python",
   "nbconvert_exporter": "python",
   "pygments_lexer": "ipython3",
   "version": "3.10.5"
  },
  "orig_nbformat": 4,
  "vscode": {
   "interpreter": {
    "hash": "0adb82060a9e8277a0ab7cf318d2b014ae15a0943de91cc19dddffdec6eb64ba"
   }
  }
 },
 "nbformat": 4,
 "nbformat_minor": 2
}
