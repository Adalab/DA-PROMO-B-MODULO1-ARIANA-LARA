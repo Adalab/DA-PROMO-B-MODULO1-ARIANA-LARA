{
 "cells": [
  {
   "cell_type": "code",
   "execution_count": 8,
   "metadata": {},
   "outputs": [
    {
     "name": "stdout",
     "output_type": "stream",
     "text": [
      "Bienvenido al juego\n",
      "La lista facilitad por el usuario es:  [2, 5, 6, 7, 9, 7]\n",
      "La lista tiene  6 elementos entre  2 y  9 escogeremos un número al azar entre esos dos\n",
      "ese no es el número secreto :(, el número secreto es 2\n",
      "Se acabó el juego\n"
     ]
    }
   ],
   "source": [
    "print (\"Bienvenido al juego\")\n",
    "import random\n",
    "str_input = \"Introduce una lista de números separados por espacios\"\n",
    "num_list = list(int(num) for num in input(str_input).strip().split())\n",
    "maximo = max(num_list)\n",
    "minimo = min(num_list)\n",
    "longitud = len(num_list)\n",
    "numero_secreto = random.randint(minimo , maximo)\n",
    "print (\"La lista facilitad por el usuario es: \" , num_list)\n",
    "print (\"La lista tiene \" , longitud , \"elementos entre \" , minimo , \"y \" , maximo, 'escogeremos un número al azar entre esos dos')\n",
    "numero_usuario= int(input('usted debe adivinar que número es, primer intento:'))\n",
    "if numero_usuario==numero_secreto:\n",
    "    print('ha acertado el número')\n",
    "else:\n",
    "    print('ese no es el número secreto :(, el número secreto es', numero_secreto)\n",
    "\n",
    "print('Se acabó el juego')"
   ]
  }
 ],
 "metadata": {
  "kernelspec": {
   "display_name": "Python 3.10.5 64-bit",
   "language": "python",
   "name": "python3"
  },
  "language_info": {
   "codemirror_mode": {
    "name": "ipython",
    "version": 3
   },
   "file_extension": ".py",
   "mimetype": "text/x-python",
   "name": "python",
   "nbconvert_exporter": "python",
   "pygments_lexer": "ipython3",
   "version": "3.10.5"
  },
  "orig_nbformat": 4,
  "vscode": {
   "interpreter": {
    "hash": "0adb82060a9e8277a0ab7cf318d2b014ae15a0943de91cc19dddffdec6eb64ba"
   }
  }
 },
 "nbformat": 4,
 "nbformat_minor": 2
}
