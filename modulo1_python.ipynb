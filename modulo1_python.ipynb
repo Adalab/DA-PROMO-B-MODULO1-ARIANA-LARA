{
 "cells": [
  {
   "cell_type": "code",
   "execution_count": 3,
   "metadata": {},
   "outputs": [
    {
     "name": "stdout",
     "output_type": "stream",
     "text": [
      "--comencemos el juego--\n",
      "tienes 2 intentos para adivinar el numero entre el 3 y el 6\n",
      "intento 1:  4\n",
      "INCORRECTO :(\n",
      "--terminó el juego--\n"
     ]
    }
   ],
   "source": [
    "print (\"--comencemos el juego--\")\n",
    "print (\"tienes 2 intentos para adivinar el numero entre el 3 y el 6\")\n",
    "variable = input(\"escribe un número del 3 al 6\")\n",
    "print (\"intento 1: \", variable)\n",
    "x= str(\"5\") \n",
    "if variable == x:\n",
    "    print (\"CORRECTO!!\")\n",
    "else:\n",
    "    print (\"INCORRECTO :(, la respuesta era 5\")\n",
    "    \n",
    "print (\"--terminó el juego--\")\n"
   ]
  }
 ],
 "metadata": {
  "kernelspec": {
   "display_name": "Python 3.10.5 64-bit",
   "language": "python",
   "name": "python3"
  },
  "language_info": {
   "codemirror_mode": {
    "name": "ipython",
    "version": 3
   },
   "file_extension": ".py",
   "mimetype": "text/x-python",
   "name": "python",
   "nbconvert_exporter": "python",
   "pygments_lexer": "ipython3",
   "version": "3.10.5"
  },
  "orig_nbformat": 4,
  "vscode": {
   "interpreter": {
    "hash": "0adb82060a9e8277a0ab7cf318d2b014ae15a0943de91cc19dddffdec6eb64ba"
   }
  }
 },
 "nbformat": 4,
 "nbformat_minor": 2
}
